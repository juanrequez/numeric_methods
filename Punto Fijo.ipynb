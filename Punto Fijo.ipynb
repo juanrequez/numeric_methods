{
 "cells": [
  {
   "cell_type": "markdown",
   "id": "ab0dadda",
   "metadata": {},
   "source": [
    " x^2+5x+6=0\n",
    "\n",
    " Las soluciones deben ser x=-2 y x=-3\n",
    " aproximación inicial será x=-1\n",
    " \n",
    " x=(x^2+6)/(-5)\n",
    " \n",
    " x=-x^2-4x-6 \n",
    " \n",
    " x=x^2+6x+6 (esta ecuación no sirve)"
   ]
  },
  {
   "cell_type": "code",
   "execution_count": 39,
   "id": "ee0c9043",
   "metadata": {},
   "outputs": [],
   "source": [
    "import numpy as np\n"
   ]
  },
  {
   "cell_type": "code",
   "execution_count": 40,
   "id": "9d26dd81",
   "metadata": {},
   "outputs": [],
   "source": [
    "#Se crea un vector que contendrá todos los valores de x, el índice indica\n",
    "#el paso de la iteración\n",
    "x=np.zeros(11)"
   ]
  },
  {
   "cell_type": "code",
   "execution_count": 41,
   "id": "269f4697",
   "metadata": {},
   "outputs": [
    {
     "data": {
      "text/plain": [
       "array([0., 0., 0., 0., 0., 0., 0., 0., 0., 0., 0.])"
      ]
     },
     "execution_count": 41,
     "metadata": {},
     "output_type": "execute_result"
    }
   ],
   "source": [
    "x"
   ]
  },
  {
   "cell_type": "code",
   "execution_count": 62,
   "id": "8c3373f4",
   "metadata": {},
   "outputs": [],
   "source": [
    "x[0]=-2.8"
   ]
  },
  {
   "cell_type": "code",
   "execution_count": 63,
   "id": "8c9572f0",
   "metadata": {},
   "outputs": [],
   "source": [
    "# x=-x^2-4x-6 \n",
    "for i in range(1,11,1):\n",
    "    x[i]=-x[i-1]**2-4*x[i-1]-6"
   ]
  },
  {
   "cell_type": "code",
   "execution_count": 64,
   "id": "98cbe76b",
   "metadata": {},
   "outputs": [
    {
     "data": {
      "text/plain": [
       "array([-2.8       , -2.64      , -2.4096    , -2.16777216, -2.0281475 ,\n",
       "       -2.00079228, -2.00000063, -2.        , -2.        , -2.        ,\n",
       "       -2.        ])"
      ]
     },
     "execution_count": 64,
     "metadata": {},
     "output_type": "execute_result"
    }
   ],
   "source": [
    "x"
   ]
  },
  {
   "cell_type": "code",
   "execution_count": null,
   "id": "3d3a166d",
   "metadata": {},
   "outputs": [],
   "source": []
  }
 ],
 "metadata": {
  "kernelspec": {
   "display_name": "Python 3 (ipykernel)",
   "language": "python",
   "name": "python3"
  },
  "language_info": {
   "codemirror_mode": {
    "name": "ipython",
    "version": 3
   },
   "file_extension": ".py",
   "mimetype": "text/x-python",
   "name": "python",
   "nbconvert_exporter": "python",
   "pygments_lexer": "ipython3",
   "version": "3.10.5"
  }
 },
 "nbformat": 4,
 "nbformat_minor": 5
}
